{
 "cells": [
  {
   "cell_type": "markdown",
   "id": "d1cd6b67",
   "metadata": {},
   "source": [
    "# Assignment 2: Jupyter Notebook\n",
    "\n",
    "The tasks consist of:\n",
    "- Porting the User Interface node into a Jupyter Notebbok version\n",
    "- Printing the closest obstacle position or laser scan data"
   ]
  },
  {
   "cell_type": "markdown",
   "id": "f7bb59fe",
   "metadata": {},
   "source": [
    "## Importing Useful Libraries"
   ]
  },
  {
   "cell_type": "code",
   "execution_count": 14,
   "id": "26ecfc42",
   "metadata": {},
   "outputs": [],
   "source": [
    "import jupyros as jp\n",
    "import rospy\n",
    "from assignment_3.srv import *\n",
    "import ipywidgets as widgets\n",
    "from IPython.display import display"
   ]
  },
  {
   "cell_type": "markdown",
   "id": "f0a63bbc",
   "metadata": {},
   "source": [
    "## Creating Interaction Class\n",
    "\n",
    "This takes the implementation of the userinterface node and ports it for jupyter notebook and little additions using ipywidgets for a better interface "
   ]
  },
  {
   "cell_type": "code",
   "execution_count": 15,
   "id": "26cd523a",
   "metadata": {},
   "outputs": [],
   "source": [
    "class UserInteraction():\n",
    "    def __init__(self):\n",
    "        self.choice = ''\n",
    "        self.value = value = {'None': 7,'1. Reach a (x,y) coordinate':1,'2. Drive the robot with the keyboard':2,'3. Drive the robot with some assistance':3,'0. Exit':0}\n",
    "        self.out_2 = widgets.Output(layout={'border': '1px solid black'})\n",
    "        \n",
    "    def on_button_clicked(self, b):\n",
    "        rospy.wait_for_service(\"/reachCoordinateService\")\n",
    "        client = rospy.ServiceProxy(\"/reachCoordinateService\", reachCoordinateService)\n",
    "\n",
    "        rt = client(self.x.value,self.y.value)\n",
    "\n",
    "\n",
    "        with self.out_2:\n",
    "            if rt.ret == 0:\n",
    "                print(\"Target not reached, goal cancelled\")\n",
    "            elif rt.ret == 1:\n",
    "                print(\"Target reached!\")\n",
    "        return self.out_2\n",
    "    \n",
    "    def control(self):\n",
    "        self.out_1 = widgets.Output(layout={'border': '1px solid black'})\n",
    "\n",
    "        widgets.Dropdown.value.tag(sync=True) \n",
    "\n",
    "        self.selection = widgets.Dropdown(\n",
    "            options=['None','1. Reach a (x,y) coordinate','2. Drive the robot with the keyboard','3. Drive the robot with some assistance','0. Exit'],\n",
    "            value= 'None',\n",
    "            description='Control:'\n",
    "        )\n",
    "\n",
    "        self.display_choice = widgets.Text(value='None', description='You Selected:', disabled=True)\n",
    "\n",
    "        mylink = widgets.jslink((self.selection, 'value'), (self.display_choice, 'value'))\n",
    "        \n",
    "\n",
    "        with self.out_1:\n",
    "            print(\"Select Your Control Method:\")\n",
    "            display(self.selection, self.display_choice)\n",
    "        return self.out_1\n",
    "    \n",
    "    def opt1(self):\n",
    "        self.x = widgets.IntText(value= 0, description='Select X Coordinate', disabled=False)\n",
    "        self.y = widgets.IntText(value= 0, description='Select Y Coordinate', disabled=False)\n",
    "        self.ready_button = widgets.Button(description='Lets go',disabled=False,button_style='info')\n",
    "        \n",
    "        \n",
    "        with self.out_2:\n",
    "            print(\"You need to select the respective x and y coordinates\")\n",
    "            display(self.x,self.y, self.ready_button)\n",
    "        self.out_2\n",
    "        self.out_2.clear_output(wait=True)\n",
    "        self.ready_button.on_click(self.on_button_clicked)\n",
    "        \n",
    "        return self.out_2\n",
    "\n",
    "    \n",
    "    def opt2(self):\n",
    "        with self.out_2:\n",
    "            print(\"Option 2 Selected\")\n",
    "        self.out_2\n",
    "        \n",
    "        rospy.wait_for_service(\"/keyboardService\")\n",
    "        client = rospy.ServiceProxy(\"/keyboardService\", keyboardService)\n",
    "        client(0)\n",
    "        \n",
    "    def opt3(self):\n",
    "        with self.out_2:\n",
    "            print(\"Option 3 Selected\")\n",
    "        self.out_2\n",
    "        \n",
    "        rospy.wait_for_service(\"/keyboardService\")\n",
    "        client = rospy.ServiceProxy(\"/keyboardService\", keyboardService)\n",
    "        client(1)\n",
    "        \n",
    "    def runros(self):\n",
    "        rospy.init_node('userInteractionNode')\n",
    "\n",
    "        if self.value[self.display_choice.value] == 1:\n",
    "            return self.opt1()\n",
    "        elif self.value[self.display_choice.value] == 2:\n",
    "            return self.opt2()\n",
    "        elif self.value[self.display_choice.value] == 3:\n",
    "            return self.opt3()\n",
    "        else:\n",
    "            with self.out_2:\n",
    "                print(\"Make A Valid Selection\")\n",
    "            return self.out_2\n",
    "        return self.out_2\n",
    "        "
   ]
  },
  {
   "cell_type": "markdown",
   "id": "cb21d225",
   "metadata": {},
   "source": [
    "## Selecting Control Scheme"
   ]
  },
  {
   "cell_type": "code",
   "execution_count": 16,
   "id": "ef1fb534",
   "metadata": {
    "scrolled": true
   },
   "outputs": [
    {
     "data": {
      "application/vnd.jupyter.widget-view+json": {
       "model_id": "480846418d7d436c88b89bf93367fe9f",
       "version_major": 2,
       "version_minor": 0
      },
      "text/plain": [
       "Output(layout=Layout(border='1px solid black'))"
      ]
     },
     "metadata": {},
     "output_type": "display_data"
    }
   ],
   "source": [
    "UI = UserInteraction()\n",
    "UI.control()"
   ]
  },
  {
   "cell_type": "markdown",
   "id": "c51984d3",
   "metadata": {},
   "source": [
    "## Running Selection"
   ]
  },
  {
   "cell_type": "code",
   "execution_count": 17,
   "id": "9a8c9ea9",
   "metadata": {
    "scrolled": true
   },
   "outputs": [
    {
     "data": {
      "application/vnd.jupyter.widget-view+json": {
       "model_id": "907a6ce2c63e4b5dbdc50fb6d8c0fbb2",
       "version_major": 2,
       "version_minor": 0
      },
      "text/plain": [
       "Output(layout=Layout(border='1px solid black'))"
      ]
     },
     "metadata": {},
     "output_type": "display_data"
    }
   ],
   "source": [
    "UI.runros()"
   ]
  }
 ],
 "metadata": {
  "kernelspec": {
   "display_name": "Python 3 (ipykernel)",
   "language": "python",
   "name": "python3"
  },
  "language_info": {
   "codemirror_mode": {
    "name": "ipython",
    "version": 3
   },
   "file_extension": ".py",
   "mimetype": "text/x-python",
   "name": "python",
   "nbconvert_exporter": "python",
   "pygments_lexer": "ipython3",
   "version": "3.8.5"
  },
  "toc": {
   "base_numbering": 1,
   "nav_menu": {},
   "number_sections": true,
   "sideBar": true,
   "skip_h1_title": false,
   "title_cell": "Table of Contents",
   "title_sidebar": "Contents",
   "toc_cell": false,
   "toc_position": {},
   "toc_section_display": true,
   "toc_window_display": false
  },
  "varInspector": {
   "cols": {
    "lenName": 16,
    "lenType": 16,
    "lenVar": 40
   },
   "kernels_config": {
    "python": {
     "delete_cmd_postfix": "",
     "delete_cmd_prefix": "del ",
     "library": "var_list.py",
     "varRefreshCmd": "print(var_dic_list())"
    },
    "r": {
     "delete_cmd_postfix": ") ",
     "delete_cmd_prefix": "rm(",
     "library": "var_list.r",
     "varRefreshCmd": "cat(var_dic_list()) "
    }
   },
   "types_to_exclude": [
    "module",
    "function",
    "builtin_function_or_method",
    "instance",
    "_Feature"
   ],
   "window_display": false
  }
 },
 "nbformat": 4,
 "nbformat_minor": 5
}
