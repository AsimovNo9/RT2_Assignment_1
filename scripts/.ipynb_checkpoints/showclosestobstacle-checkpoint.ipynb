{
 "cells": [
  {
   "cell_type": "markdown",
   "id": "3a2b2f77",
   "metadata": {},
   "source": [
    "# Assignment 2: Jupyter Notebook\n",
    "\n",
    "The tasks consist of:\n",
    "- Porting the User Interface node into a Jupyter Notebbok version\n",
    "- Printing the closest obstacle position or laser scan data"
   ]
  },
  {
   "cell_type": "markdown",
   "id": "46d7b8d9",
   "metadata": {},
   "source": [
    "## Importing Useful Libraries"
   ]
  },
  {
   "cell_type": "code",
   "execution_count": null,
   "id": "a328b564",
   "metadata": {},
   "outputs": [],
   "source": [
    "import rospy\n",
    "import ipywidgets as widgets\n",
    "import numpy as np\n",
    "from geometry_msgs.msg import Twist, Vector3\n",
    "from sensor_msgs.msg import LaserScan"
   ]
  },
  {
   "cell_type": "markdown",
   "id": "eba0e1a9",
   "metadata": {},
   "source": [
    "## Defining Visualise Class\n",
    "\n",
    "This uses the uses various functions to divide the laser scan into sectors of right, front and left, and determines which sector has the smallest distance from an obstacle. On discovering that, the most closest obstacle is printed to the screen"
   ]
  },
  {
   "cell_type": "code",
   "execution_count": null,
   "id": "9b947eed",
   "metadata": {},
   "outputs": [],
   "source": [
    "class Visualise():\n",
    "    def __init__(self):\n",
    "        self.min_dist = 0.5\n",
    "        self.linear = Vector3(0, 0, 0)\n",
    "        self.angular = Vector3(0, 0, 0)\n",
    "        self.repost = Twist(self.linear, self.angular)\n",
    "        self.out = widgets.Output(layout={'border': '1px solid black'})\n",
    "        self.closest_obstacle = widgets.Text(value = '', description= '', disabled=True)\n",
    "    \n",
    "    def min_index(self, distances):\n",
    "        min_value = min(distances)\n",
    "\n",
    "        index = distances.index(min_value)\n",
    "        return index\n",
    "    \n",
    "    def compute_min_dist(self, ranges):\n",
    "        distance = [0,0,0]\n",
    "        subarrays = [ ranges[0:240], ranges[241:480], ranges[481:721] ]\n",
    "        distance = [ min(subarrays[0]), min(subarrays[1]), min(subarrays[2]) ]\n",
    "        return distance\n",
    "\n",
    "\n",
    "\n",
    "    def callback(self, msg):\n",
    "\n",
    "        ranges = msg.ranges\n",
    "        distances = self.compute_min_dist(ranges)\n",
    "        index = self.min_index(distances)\n",
    "\n",
    "        if index == 0:\n",
    "            self.closest_obstacle.value = 'closest wall is to the right'\n",
    "        elif index == 1:\n",
    "            self.closest_obstacle.value = 'closest wall is in front'\n",
    "        elif index == 2:\n",
    "            self.closest_obstacle.value = 'closest wall is to the left'\n",
    "        else:\n",
    "            self.closest_obstacle.value = 'Cannot determine closest wall'\n",
    "        return self.closest_obstacle.value\n",
    "    \n",
    "    def runros(self):\n",
    "        rospy.init_node('obstacle_warner')\n",
    "        rospy.Subscriber('/scan', LaserScan, self.callback)\n",
    "        \n",
    "        \n",
    "        with self.out:\n",
    "            display(self.closest_obstacle)\n",
    "        display(self.out)\n",
    "        rospy.spin()\n"
   ]
  },
  {
   "cell_type": "markdown",
   "id": "6a18a0de",
   "metadata": {},
   "source": [
    "## Running the Code"
   ]
  },
  {
   "cell_type": "code",
   "execution_count": null,
   "id": "a14e8fba",
   "metadata": {},
   "outputs": [],
   "source": [
    "see = Visualise()\n",
    "see.runros()"
   ]
  }
 ],
 "metadata": {
  "kernelspec": {
   "display_name": "Python 3 (ipykernel)",
   "language": "python",
   "name": "python3"
  },
  "language_info": {
   "codemirror_mode": {
    "name": "ipython",
    "version": 3
   },
   "file_extension": ".py",
   "mimetype": "text/x-python",
   "name": "python",
   "nbconvert_exporter": "python",
   "pygments_lexer": "ipython3",
   "version": "3.8.5"
  },
  "toc": {
   "base_numbering": 1,
   "nav_menu": {},
   "number_sections": true,
   "sideBar": true,
   "skip_h1_title": false,
   "title_cell": "Table of Contents",
   "title_sidebar": "Contents",
   "toc_cell": false,
   "toc_position": {},
   "toc_section_display": true,
   "toc_window_display": false
  },
  "varInspector": {
   "cols": {
    "lenName": 16,
    "lenType": 16,
    "lenVar": 40
   },
   "kernels_config": {
    "python": {
     "delete_cmd_postfix": "",
     "delete_cmd_prefix": "del ",
     "library": "var_list.py",
     "varRefreshCmd": "print(var_dic_list())"
    },
    "r": {
     "delete_cmd_postfix": ") ",
     "delete_cmd_prefix": "rm(",
     "library": "var_list.r",
     "varRefreshCmd": "cat(var_dic_list()) "
    }
   },
   "types_to_exclude": [
    "module",
    "function",
    "builtin_function_or_method",
    "instance",
    "_Feature"
   ],
   "window_display": false
  }
 },
 "nbformat": 4,
 "nbformat_minor": 5
}
