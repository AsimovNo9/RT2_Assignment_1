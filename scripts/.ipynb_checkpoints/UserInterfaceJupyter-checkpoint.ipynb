{
 "cells": [
  {
   "cell_type": "code",
   "execution_count": 12,
   "id": "26ecfc42",
   "metadata": {},
   "outputs": [],
   "source": [
    "import jupyros as jp\n",
    "import rospy\n",
    "from assignment_3.srv import *\n",
    "import ipywidgets as widgets\n",
    "from IPython.display import display"
   ]
  },
  {
   "cell_type": "code",
   "execution_count": 13,
   "id": "26cd523a",
   "metadata": {},
   "outputs": [],
   "source": [
    "class UserInteraction():\n",
    "    def __init__(self):\n",
    "        self.choice = ''\n",
    "        self.value = value = {'None': 7,'1. Reach a (x,y) coordinate':1,'2. Drive the robot with the keyboard':2,'3. Drive the robot with some assistance':3,'0. Exit':0}\n",
    "        self.out_2 = widgets.Output(layout={'border': '1px solid black'})\n",
    "        \n",
    "    def on_button_clicked(self, b):\n",
    "        rospy.wait_for_service(\"/reachCoordinateService\")\n",
    "        client = rospy.ServiceProxy(\"/reachCoordinateService\", reachCoordinateService)\n",
    "\n",
    "        rt = client(self.x.value,self.y.value)\n",
    "\n",
    "\n",
    "        with self.out_2:\n",
    "            if rt.ret == 0:\n",
    "                print(\"Target not reached, goal cancelled\")\n",
    "            elif rt.ret == 1:\n",
    "                print(\"Target reached!\")\n",
    "        return self.out_2\n",
    "    \n",
    "    def control(self):\n",
    "        self.out_1 = widgets.Output(layout={'border': '1px solid black'})\n",
    "\n",
    "        widgets.Dropdown.value.tag(sync=True) \n",
    "\n",
    "        self.selection = widgets.Dropdown(\n",
    "            options=['None','1. Reach a (x,y) coordinate','2. Drive the robot with the keyboard','3. Drive the robot with some assistance','0. Exit'],\n",
    "            value= 'None',\n",
    "            description='Control:'\n",
    "        )\n",
    "\n",
    "        self.display_choice = widgets.Text(value='None', description='You Selected:', disabled=True)\n",
    "\n",
    "        mylink = widgets.jslink((self.selection, 'value'), (self.display_choice, 'value'))\n",
    "        \n",
    "\n",
    "        with self.out_1:\n",
    "            print(\"Select Your Control Method:\")\n",
    "            display(self.selection, self.display_choice)\n",
    "        return self.out_1\n",
    "    \n",
    "    def opt1(self):\n",
    "        self.x = widgets.IntText(value= 0, description='Select X Coordinate', disabled=False)\n",
    "        self.y = widgets.IntText(value= 0, description='Select Y Coordinate', disabled=False)\n",
    "        self.ready_button = widgets.Button(description='Lets go',disabled=False,button_style='info')\n",
    "        \n",
    "        \n",
    "        with self.out_2:\n",
    "            print(\"You need to select the respective x and y coordinates\")\n",
    "            display(self.x,self.y, self.ready_button)\n",
    "        self.out_2\n",
    "        self.out_2.clear_output(wait=True)\n",
    "        self.ready_button.on_click(self.on_button_clicked)\n",
    "        \n",
    "        return self.out_2\n",
    "\n",
    "    \n",
    "    def opt2(self):\n",
    "        with self.out_2:\n",
    "            print(\"Option 2 Selected\")\n",
    "        self.out_2\n",
    "        \n",
    "        rospy.wait_for_service(\"/keyboardService\")\n",
    "        client = rospy.ServiceProxy(\"/keyboardService\", keyboardService)\n",
    "        client(0)\n",
    "        \n",
    "    def opt3(self):\n",
    "        with self.out_2:\n",
    "            print(\"Option 3 Selected\")\n",
    "        self.out_2\n",
    "        \n",
    "        rospy.wait_for_service(\"/keyboardService\")\n",
    "        client = rospy.ServiceProxy(\"/keyboardService\", keyboardService)\n",
    "        client(1)\n",
    "        \n",
    "    def runros(self):\n",
    "        rospy.init_node('userInteractionNode')\n",
    "\n",
    "        if self.value[self.display_choice.value] == 1:\n",
    "            return self.opt1()\n",
    "        elif self.value[self.display_choice.value] == 2:\n",
    "            return self.opt2()\n",
    "        elif self.value[self.display_choice.value] == 3:\n",
    "            return self.opt3()\n",
    "        else:\n",
    "            with self.out_2:\n",
    "                print(\"Make A Valid Selection\")\n",
    "            return self.out_2\n",
    "        return self.out_2\n",
    "        "
   ]
  },
  {
   "cell_type": "code",
   "execution_count": 10,
   "id": "ef1fb534",
   "metadata": {},
   "outputs": [
    {
     "data": {
      "application/vnd.jupyter.widget-view+json": {
       "model_id": "78faa907e1864320abaf5aedce58bdc2",
       "version_major": 2,
       "version_minor": 0
      },
      "text/plain": [
       "Output(layout=Layout(border='1px solid black'))"
      ]
     },
     "metadata": {},
     "output_type": "display_data"
    }
   ],
   "source": [
    "UI = UserInteraction()\n",
    "UI.control()"
   ]
  },
  {
   "cell_type": "code",
   "execution_count": 11,
   "id": "9a8c9ea9",
   "metadata": {
    "scrolled": true
   },
   "outputs": [
    {
     "name": "stderr",
     "output_type": "stream",
     "text": [
      "[WARN] [1654772453.033120, 923.612000]: wait_for_service(/keyboardService): failed to contact, will keep trying\n"
     ]
    },
    {
     "name": "stdout",
     "output_type": "stream",
     "text": [
      "[INFO] [1654772573.917259, 923.612000]: wait_for_service(/keyboardService): finally were able to contact [rosrpc://89a001bc8875:36661]\n"
     ]
    },
    {
     "ename": "ServiceException",
     "evalue": "transport error completing service call: unable to receive data from sender, check sender's logs for details",
     "output_type": "error",
     "traceback": [
      "\u001b[0;31m---------------------------------------------------------------------------\u001b[0m",
      "\u001b[0;31mTransportTerminated\u001b[0m                       Traceback (most recent call last)",
      "\u001b[0;32m/opt/ros/noetic/lib/python3/dist-packages/rospy/impl/tcpros_service.py\u001b[0m in \u001b[0;36mcall\u001b[0;34m(self, *args, **kwds)\u001b[0m\n\u001b[1;32m    521\u001b[0m         \u001b[0;32mtry\u001b[0m\u001b[0;34m:\u001b[0m\u001b[0;34m\u001b[0m\u001b[0;34m\u001b[0m\u001b[0m\n\u001b[0;32m--> 522\u001b[0;31m             \u001b[0mresponses\u001b[0m \u001b[0;34m=\u001b[0m \u001b[0mtransport\u001b[0m\u001b[0;34m.\u001b[0m\u001b[0mreceive_once\u001b[0m\u001b[0;34m(\u001b[0m\u001b[0;34m)\u001b[0m\u001b[0;34m\u001b[0m\u001b[0;34m\u001b[0m\u001b[0m\n\u001b[0m\u001b[1;32m    523\u001b[0m             \u001b[0;32mif\u001b[0m \u001b[0mlen\u001b[0m\u001b[0;34m(\u001b[0m\u001b[0mresponses\u001b[0m\u001b[0;34m)\u001b[0m \u001b[0;34m==\u001b[0m \u001b[0;36m0\u001b[0m\u001b[0;34m:\u001b[0m\u001b[0;34m\u001b[0m\u001b[0;34m\u001b[0m\u001b[0m\n",
      "\u001b[0;32m/opt/ros/noetic/lib/python3/dist-packages/rospy/impl/tcpros_base.py\u001b[0m in \u001b[0;36mreceive_once\u001b[0;34m(self)\u001b[0m\n\u001b[1;32m    736\u001b[0m                 \u001b[0;32mif\u001b[0m \u001b[0;32mnot\u001b[0m \u001b[0mmsg_queue\u001b[0m\u001b[0;34m:\u001b[0m\u001b[0;34m\u001b[0m\u001b[0;34m\u001b[0m\u001b[0m\n\u001b[0;32m--> 737\u001b[0;31m                     \u001b[0mself\u001b[0m\u001b[0;34m.\u001b[0m\u001b[0mstat_bytes\u001b[0m \u001b[0;34m+=\u001b[0m \u001b[0mrecv_buff\u001b[0m\u001b[0;34m(\u001b[0m\u001b[0msock\u001b[0m\u001b[0;34m,\u001b[0m \u001b[0mb\u001b[0m\u001b[0;34m,\u001b[0m \u001b[0mp\u001b[0m\u001b[0;34m.\u001b[0m\u001b[0mbuff_size\u001b[0m\u001b[0;34m)\u001b[0m\u001b[0;34m\u001b[0m\u001b[0;34m\u001b[0m\u001b[0m\n\u001b[0m\u001b[1;32m    738\u001b[0m             \u001b[0mself\u001b[0m\u001b[0;34m.\u001b[0m\u001b[0mstat_num_msg\u001b[0m \u001b[0;34m+=\u001b[0m \u001b[0mlen\u001b[0m\u001b[0;34m(\u001b[0m\u001b[0mmsg_queue\u001b[0m\u001b[0;34m)\u001b[0m \u001b[0;31m#STATS\u001b[0m\u001b[0;34m\u001b[0m\u001b[0;34m\u001b[0m\u001b[0m\n",
      "\u001b[0;32m/opt/ros/noetic/lib/python3/dist-packages/rospy/impl/tcpros_base.py\u001b[0m in \u001b[0;36mrecv_buff\u001b[0;34m(sock, b, buff_size)\u001b[0m\n\u001b[1;32m    108\u001b[0m     \u001b[0;32melse\u001b[0m\u001b[0;34m:\u001b[0m \u001b[0;31m#bomb out\u001b[0m\u001b[0;34m\u001b[0m\u001b[0;34m\u001b[0m\u001b[0m\n\u001b[0;32m--> 109\u001b[0;31m         \u001b[0;32mraise\u001b[0m \u001b[0mTransportTerminated\u001b[0m\u001b[0;34m(\u001b[0m\u001b[0;34m\"unable to receive data from sender, check sender's logs for details\"\u001b[0m\u001b[0;34m)\u001b[0m\u001b[0;34m\u001b[0m\u001b[0;34m\u001b[0m\u001b[0m\n\u001b[0m\u001b[1;32m    110\u001b[0m \u001b[0;34m\u001b[0m\u001b[0m\n",
      "\u001b[0;31mTransportTerminated\u001b[0m: unable to receive data from sender, check sender's logs for details",
      "\nDuring handling of the above exception, another exception occurred:\n",
      "\u001b[0;31mServiceException\u001b[0m                          Traceback (most recent call last)",
      "\u001b[0;32m/tmp/ipykernel_7246/1470569981.py\u001b[0m in \u001b[0;36m<module>\u001b[0;34m\u001b[0m\n\u001b[0;32m----> 1\u001b[0;31m \u001b[0mUI\u001b[0m\u001b[0;34m.\u001b[0m\u001b[0mrunros\u001b[0m\u001b[0;34m(\u001b[0m\u001b[0;34m)\u001b[0m\u001b[0;34m\u001b[0m\u001b[0;34m\u001b[0m\u001b[0m\n\u001b[0m",
      "\u001b[0;32m/tmp/ipykernel_7246/2203056058.py\u001b[0m in \u001b[0;36mrunros\u001b[0;34m(self)\u001b[0m\n\u001b[1;32m     80\u001b[0m             \u001b[0;32mreturn\u001b[0m \u001b[0mself\u001b[0m\u001b[0;34m.\u001b[0m\u001b[0mopt1\u001b[0m\u001b[0;34m(\u001b[0m\u001b[0;34m)\u001b[0m\u001b[0;34m\u001b[0m\u001b[0;34m\u001b[0m\u001b[0m\n\u001b[1;32m     81\u001b[0m         \u001b[0;32melif\u001b[0m \u001b[0mself\u001b[0m\u001b[0;34m.\u001b[0m\u001b[0mvalue\u001b[0m\u001b[0;34m[\u001b[0m\u001b[0mself\u001b[0m\u001b[0;34m.\u001b[0m\u001b[0mdisplay_choice\u001b[0m\u001b[0;34m.\u001b[0m\u001b[0mvalue\u001b[0m\u001b[0;34m]\u001b[0m \u001b[0;34m==\u001b[0m \u001b[0;36m2\u001b[0m\u001b[0;34m:\u001b[0m\u001b[0;34m\u001b[0m\u001b[0;34m\u001b[0m\u001b[0m\n\u001b[0;32m---> 82\u001b[0;31m             \u001b[0;32mreturn\u001b[0m \u001b[0mself\u001b[0m\u001b[0;34m.\u001b[0m\u001b[0mopt2\u001b[0m\u001b[0;34m(\u001b[0m\u001b[0;34m)\u001b[0m\u001b[0;34m\u001b[0m\u001b[0;34m\u001b[0m\u001b[0m\n\u001b[0m\u001b[1;32m     83\u001b[0m         \u001b[0;32melif\u001b[0m \u001b[0mself\u001b[0m\u001b[0;34m.\u001b[0m\u001b[0mvalue\u001b[0m\u001b[0;34m[\u001b[0m\u001b[0mself\u001b[0m\u001b[0;34m.\u001b[0m\u001b[0mdisplay_choice\u001b[0m\u001b[0;34m.\u001b[0m\u001b[0mvalue\u001b[0m\u001b[0;34m]\u001b[0m \u001b[0;34m==\u001b[0m \u001b[0;36m3\u001b[0m\u001b[0;34m:\u001b[0m\u001b[0;34m\u001b[0m\u001b[0;34m\u001b[0m\u001b[0m\n\u001b[1;32m     84\u001b[0m             \u001b[0;32mreturn\u001b[0m \u001b[0mself\u001b[0m\u001b[0;34m.\u001b[0m\u001b[0mopt3\u001b[0m\u001b[0;34m(\u001b[0m\u001b[0;34m)\u001b[0m\u001b[0;34m\u001b[0m\u001b[0;34m\u001b[0m\u001b[0m\n",
      "\u001b[0;32m/tmp/ipykernel_7246/2203056058.py\u001b[0m in \u001b[0;36mopt2\u001b[0;34m(self)\u001b[0m\n\u001b[1;32m     63\u001b[0m         \u001b[0mrospy\u001b[0m\u001b[0;34m.\u001b[0m\u001b[0mwait_for_service\u001b[0m\u001b[0;34m(\u001b[0m\u001b[0;34m\"/keyboardService\"\u001b[0m\u001b[0;34m)\u001b[0m\u001b[0;34m\u001b[0m\u001b[0;34m\u001b[0m\u001b[0m\n\u001b[1;32m     64\u001b[0m         \u001b[0mclient\u001b[0m \u001b[0;34m=\u001b[0m \u001b[0mrospy\u001b[0m\u001b[0;34m.\u001b[0m\u001b[0mServiceProxy\u001b[0m\u001b[0;34m(\u001b[0m\u001b[0;34m\"/keyboardService\"\u001b[0m\u001b[0;34m,\u001b[0m \u001b[0mkeyboardService\u001b[0m\u001b[0;34m)\u001b[0m\u001b[0;34m\u001b[0m\u001b[0;34m\u001b[0m\u001b[0m\n\u001b[0;32m---> 65\u001b[0;31m         \u001b[0mclient\u001b[0m\u001b[0;34m(\u001b[0m\u001b[0;36m0\u001b[0m\u001b[0;34m)\u001b[0m\u001b[0;34m\u001b[0m\u001b[0;34m\u001b[0m\u001b[0m\n\u001b[0m\u001b[1;32m     66\u001b[0m \u001b[0;34m\u001b[0m\u001b[0m\n\u001b[1;32m     67\u001b[0m     \u001b[0;32mdef\u001b[0m \u001b[0mopt3\u001b[0m\u001b[0;34m(\u001b[0m\u001b[0mself\u001b[0m\u001b[0;34m)\u001b[0m\u001b[0;34m:\u001b[0m\u001b[0;34m\u001b[0m\u001b[0;34m\u001b[0m\u001b[0m\n",
      "\u001b[0;32m/opt/ros/noetic/lib/python3/dist-packages/rospy/impl/tcpros_service.py\u001b[0m in \u001b[0;36m__call__\u001b[0;34m(self, *args, **kwds)\u001b[0m\n\u001b[1;32m    440\u001b[0m         \u001b[0mmessage\u001b[0m\u001b[0;34m.\u001b[0m \u001b[0mThis\u001b[0m \u001b[0;32mis\u001b[0m \u001b[0musually\u001b[0m \u001b[0ma\u001b[0m \u001b[0mtype\u001b[0m \u001b[0merror\u001b[0m \u001b[0;32mwith\u001b[0m \u001b[0mone\u001b[0m \u001b[0mof\u001b[0m \u001b[0mthe\u001b[0m \u001b[0mfields\u001b[0m\u001b[0;34m.\u001b[0m\u001b[0;34m\u001b[0m\u001b[0;34m\u001b[0m\u001b[0m\n\u001b[1;32m    441\u001b[0m         \"\"\"\n\u001b[0;32m--> 442\u001b[0;31m         \u001b[0;32mreturn\u001b[0m \u001b[0mself\u001b[0m\u001b[0;34m.\u001b[0m\u001b[0mcall\u001b[0m\u001b[0;34m(\u001b[0m\u001b[0;34m*\u001b[0m\u001b[0margs\u001b[0m\u001b[0;34m,\u001b[0m \u001b[0;34m**\u001b[0m\u001b[0mkwds\u001b[0m\u001b[0;34m)\u001b[0m\u001b[0;34m\u001b[0m\u001b[0;34m\u001b[0m\u001b[0m\n\u001b[0m\u001b[1;32m    443\u001b[0m \u001b[0;34m\u001b[0m\u001b[0m\n\u001b[1;32m    444\u001b[0m     \u001b[0;32mdef\u001b[0m \u001b[0m_get_service_uri\u001b[0m\u001b[0;34m(\u001b[0m\u001b[0mself\u001b[0m\u001b[0;34m,\u001b[0m \u001b[0mrequest\u001b[0m\u001b[0;34m)\u001b[0m\u001b[0;34m:\u001b[0m\u001b[0;34m\u001b[0m\u001b[0;34m\u001b[0m\u001b[0m\n",
      "\u001b[0;32m/opt/ros/noetic/lib/python3/dist-packages/rospy/impl/tcpros_service.py\u001b[0m in \u001b[0;36mcall\u001b[0;34m(self, *args, **kwds)\u001b[0m\n\u001b[1;32m    530\u001b[0m                 \u001b[0;32mraise\u001b[0m \u001b[0mrospy\u001b[0m\u001b[0;34m.\u001b[0m\u001b[0mexceptions\u001b[0m\u001b[0;34m.\u001b[0m\u001b[0mROSInterruptException\u001b[0m\u001b[0;34m(\u001b[0m\u001b[0;34m\"node shutdown interrupted service call\"\u001b[0m\u001b[0;34m)\u001b[0m\u001b[0;34m\u001b[0m\u001b[0;34m\u001b[0m\u001b[0m\n\u001b[1;32m    531\u001b[0m             \u001b[0;32melse\u001b[0m\u001b[0;34m:\u001b[0m\u001b[0;34m\u001b[0m\u001b[0;34m\u001b[0m\u001b[0m\n\u001b[0;32m--> 532\u001b[0;31m                 \u001b[0;32mraise\u001b[0m \u001b[0mServiceException\u001b[0m\u001b[0;34m(\u001b[0m\u001b[0;34m\"transport error completing service call: %s\"\u001b[0m\u001b[0;34m%\u001b[0m\u001b[0;34m(\u001b[0m\u001b[0mstr\u001b[0m\u001b[0;34m(\u001b[0m\u001b[0me\u001b[0m\u001b[0;34m)\u001b[0m\u001b[0;34m)\u001b[0m\u001b[0;34m)\u001b[0m\u001b[0;34m\u001b[0m\u001b[0;34m\u001b[0m\u001b[0m\n\u001b[0m\u001b[1;32m    533\u001b[0m         \u001b[0;32mfinally\u001b[0m\u001b[0;34m:\u001b[0m\u001b[0;34m\u001b[0m\u001b[0;34m\u001b[0m\u001b[0m\n\u001b[1;32m    534\u001b[0m             \u001b[0;32mif\u001b[0m \u001b[0;32mnot\u001b[0m \u001b[0mself\u001b[0m\u001b[0;34m.\u001b[0m\u001b[0mpersistent\u001b[0m\u001b[0;34m:\u001b[0m\u001b[0;34m\u001b[0m\u001b[0;34m\u001b[0m\u001b[0m\n",
      "\u001b[0;31mServiceException\u001b[0m: transport error completing service call: unable to receive data from sender, check sender's logs for details"
     ]
    }
   ],
   "source": [
    "UI.runros()"
   ]
  }
 ],
 "metadata": {
  "kernelspec": {
   "display_name": "Python 3 (ipykernel)",
   "language": "python",
   "name": "python3"
  },
  "language_info": {
   "codemirror_mode": {
    "name": "ipython",
    "version": 3
   },
   "file_extension": ".py",
   "mimetype": "text/x-python",
   "name": "python",
   "nbconvert_exporter": "python",
   "pygments_lexer": "ipython3",
   "version": "3.8.5"
  },
  "toc": {
   "base_numbering": 1,
   "nav_menu": {},
   "number_sections": true,
   "sideBar": true,
   "skip_h1_title": false,
   "title_cell": "Table of Contents",
   "title_sidebar": "Contents",
   "toc_cell": false,
   "toc_position": {},
   "toc_section_display": true,
   "toc_window_display": false
  },
  "varInspector": {
   "cols": {
    "lenName": 16,
    "lenType": 16,
    "lenVar": 40
   },
   "kernels_config": {
    "python": {
     "delete_cmd_postfix": "",
     "delete_cmd_prefix": "del ",
     "library": "var_list.py",
     "varRefreshCmd": "print(var_dic_list())"
    },
    "r": {
     "delete_cmd_postfix": ") ",
     "delete_cmd_prefix": "rm(",
     "library": "var_list.r",
     "varRefreshCmd": "cat(var_dic_list()) "
    }
   },
   "types_to_exclude": [
    "module",
    "function",
    "builtin_function_or_method",
    "instance",
    "_Feature"
   ],
   "window_display": false
  }
 },
 "nbformat": 4,
 "nbformat_minor": 5
}
