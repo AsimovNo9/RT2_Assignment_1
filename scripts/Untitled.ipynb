{
 "cells": [
  {
   "cell_type": "code",
   "execution_count": 87,
   "id": "26ecfc42",
   "metadata": {},
   "outputs": [],
   "source": [
    "import jupyros as jp\n",
    "import rospy\n",
    "from assignment_3.srv import *\n",
    "import ipywidgets as widgets"
   ]
  },
  {
   "cell_type": "code",
   "execution_count": 124,
   "id": "3c13b5e6",
   "metadata": {},
   "outputs": [],
   "source": [
    "out_1 = widgets.Output(layout={'border': '1px solid black'})\n",
    "selection = widgets.Dropdown(\n",
    "    options=['None','1. Reach a (x,y) coordinate','2. Drive the robot with the keyboard','3. Drive the robot with some assistance','0. Exit'],\n",
    "    value= 'None',\n",
    "    description='Control:'\n",
    ")\n",
    "display_choice = widgets.Label(value='You selected: '+selection.value, description='You Selected:', disabled=True)\n",
    "def handle_select_change(new):\n",
    "    display_choice.value = new\n",
    "selection.observe(handle_select_change, 'new')"
   ]
  },
  {
   "cell_type": "code",
   "execution_count": 125,
   "id": "93db7e5f",
   "metadata": {
    "scrolled": true
   },
   "outputs": [
    {
     "data": {
      "application/vnd.jupyter.widget-view+json": {
       "model_id": "e81ba490e49b4d19b26d79220456e4cd",
       "version_major": 2,
       "version_minor": 0
      },
      "text/plain": [
       "Output(layout=Layout(border='1px solid black'))"
      ]
     },
     "metadata": {},
     "output_type": "display_data"
    }
   ],
   "source": [
    "with out_1:\n",
    "    print(\"Select Your Control Method:\")\n",
    "    display(selection)\n",
    "    display(display_choice)\n",
    "out_1"
   ]
  },
  {
   "cell_type": "code",
   "execution_count": 91,
   "id": "cfd5a0f5",
   "metadata": {
    "scrolled": true
   },
   "outputs": [
    {
     "data": {
      "application/vnd.jupyter.widget-view+json": {
       "model_id": "0c6481fb512545e29695c03682198d0b",
       "version_major": 2,
       "version_minor": 0
      },
      "text/plain": [
       "Output(layout=Layout(border='1px solid black'))"
      ]
     },
     "metadata": {},
     "output_type": "display_data"
    }
   ],
   "source": [
    "out_2 = widgets.Output(layout={'border': '1px solid black'})\n",
    "\n",
    "    \n",
    "\n",
    "value = {'None': 7,'1. Reach a (x,y) coordinate':1,'2. Drive the robot with the keyboard':2,'3. Drive the robot with some assistance':3,'0. Exit':0}\n",
    "choice = value[display_choice.value]\n",
    "with out_2:\n",
    "    display(display_choice)\n",
    "out_2"
   ]
  },
  {
   "cell_type": "code",
   "execution_count": 92,
   "id": "60b6618e",
   "metadata": {},
   "outputs": [],
   "source": []
  },
  {
   "cell_type": "code",
   "execution_count": 70,
   "id": "b2b77399",
   "metadata": {},
   "outputs": [],
   "source": []
  },
  {
   "cell_type": "code",
   "execution_count": 71,
   "id": "83c7c607",
   "metadata": {},
   "outputs": [
    {
     "data": {
      "text/plain": [
       "3"
      ]
     },
     "execution_count": 71,
     "metadata": {},
     "output_type": "execute_result"
    }
   ],
   "source": [
    "def opt1():\n",
    "    "
   ]
  },
  {
   "cell_type": "code",
   "execution_count": null,
   "id": "26cd523a",
   "metadata": {},
   "outputs": [],
   "source": []
  }
 ],
 "metadata": {
  "kernelspec": {
   "display_name": "Python 3 (ipykernel)",
   "language": "python",
   "name": "python3"
  },
  "language_info": {
   "codemirror_mode": {
    "name": "ipython",
    "version": 3
   },
   "file_extension": ".py",
   "mimetype": "text/x-python",
   "name": "python",
   "nbconvert_exporter": "python",
   "pygments_lexer": "ipython3",
   "version": "3.8.5"
  },
  "toc": {
   "base_numbering": 1,
   "nav_menu": {},
   "number_sections": true,
   "sideBar": true,
   "skip_h1_title": false,
   "title_cell": "Table of Contents",
   "title_sidebar": "Contents",
   "toc_cell": false,
   "toc_position": {},
   "toc_section_display": true,
   "toc_window_display": false
  },
  "varInspector": {
   "cols": {
    "lenName": 16,
    "lenType": 16,
    "lenVar": 40
   },
   "kernels_config": {
    "python": {
     "delete_cmd_postfix": "",
     "delete_cmd_prefix": "del ",
     "library": "var_list.py",
     "varRefreshCmd": "print(var_dic_list())"
    },
    "r": {
     "delete_cmd_postfix": ") ",
     "delete_cmd_prefix": "rm(",
     "library": "var_list.r",
     "varRefreshCmd": "cat(var_dic_list()) "
    }
   },
   "types_to_exclude": [
    "module",
    "function",
    "builtin_function_or_method",
    "instance",
    "_Feature"
   ],
   "window_display": false
  }
 },
 "nbformat": 4,
 "nbformat_minor": 5
}
